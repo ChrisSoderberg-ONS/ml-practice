{
 "cells": [
  {
   "cell_type": "markdown",
   "metadata": {},
   "source": [
    "### Introduction to machine learning with TensorFlow\n",
    "\n",
    "This notebook is intended to be run in a local Python environment with access to the TensorFlow package."
   ]
  },
  {
   "cell_type": "code",
   "execution_count": 1,
   "metadata": {},
   "outputs": [
    {
     "name": "stdout",
     "output_type": "stream",
     "text": [
      "WARNING:tensorflow:From C:\\Users\\soderc\\Anaconda3\\envs\\ml-practice-env\\Lib\\site-packages\\keras\\src\\losses.py:2976: The name tf.losses.sparse_softmax_cross_entropy is deprecated. Please use tf.compat.v1.losses.sparse_softmax_cross_entropy instead.\n",
      "\n"
     ]
    }
   ],
   "source": [
    "from modules.tensorflow_functions import *\n",
    "from ucimlrepo import fetch_ucirepo"
   ]
  },
  {
   "cell_type": "markdown",
   "metadata": {},
   "source": [
    "Read in data - we are using the abalone mollusc dataset from the UCI ML dataset repository:"
   ]
  },
  {
   "cell_type": "code",
   "execution_count": 2,
   "metadata": {},
   "outputs": [
    {
     "data": {
      "text/html": [
       "<div>\n",
       "<style scoped>\n",
       "    .dataframe tbody tr th:only-of-type {\n",
       "        vertical-align: middle;\n",
       "    }\n",
       "\n",
       "    .dataframe tbody tr th {\n",
       "        vertical-align: top;\n",
       "    }\n",
       "\n",
       "    .dataframe thead th {\n",
       "        text-align: right;\n",
       "    }\n",
       "</style>\n",
       "<table border=\"1\" class=\"dataframe\">\n",
       "  <thead>\n",
       "    <tr style=\"text-align: right;\">\n",
       "      <th></th>\n",
       "      <th>Sex</th>\n",
       "      <th>Length</th>\n",
       "      <th>Diameter</th>\n",
       "      <th>Height</th>\n",
       "      <th>Whole_weight</th>\n",
       "      <th>Shucked_weight</th>\n",
       "      <th>Viscera_weight</th>\n",
       "      <th>Shell_weight</th>\n",
       "      <th>Rings</th>\n",
       "    </tr>\n",
       "  </thead>\n",
       "  <tbody>\n",
       "    <tr>\n",
       "      <th>0</th>\n",
       "      <td>M</td>\n",
       "      <td>0.455</td>\n",
       "      <td>0.365</td>\n",
       "      <td>0.095</td>\n",
       "      <td>0.5140</td>\n",
       "      <td>0.2245</td>\n",
       "      <td>0.1010</td>\n",
       "      <td>0.150</td>\n",
       "      <td>15</td>\n",
       "    </tr>\n",
       "    <tr>\n",
       "      <th>1</th>\n",
       "      <td>M</td>\n",
       "      <td>0.350</td>\n",
       "      <td>0.265</td>\n",
       "      <td>0.090</td>\n",
       "      <td>0.2255</td>\n",
       "      <td>0.0995</td>\n",
       "      <td>0.0485</td>\n",
       "      <td>0.070</td>\n",
       "      <td>7</td>\n",
       "    </tr>\n",
       "    <tr>\n",
       "      <th>2</th>\n",
       "      <td>F</td>\n",
       "      <td>0.530</td>\n",
       "      <td>0.420</td>\n",
       "      <td>0.135</td>\n",
       "      <td>0.6770</td>\n",
       "      <td>0.2565</td>\n",
       "      <td>0.1415</td>\n",
       "      <td>0.210</td>\n",
       "      <td>9</td>\n",
       "    </tr>\n",
       "    <tr>\n",
       "      <th>3</th>\n",
       "      <td>M</td>\n",
       "      <td>0.440</td>\n",
       "      <td>0.365</td>\n",
       "      <td>0.125</td>\n",
       "      <td>0.5160</td>\n",
       "      <td>0.2155</td>\n",
       "      <td>0.1140</td>\n",
       "      <td>0.155</td>\n",
       "      <td>10</td>\n",
       "    </tr>\n",
       "    <tr>\n",
       "      <th>4</th>\n",
       "      <td>I</td>\n",
       "      <td>0.330</td>\n",
       "      <td>0.255</td>\n",
       "      <td>0.080</td>\n",
       "      <td>0.2050</td>\n",
       "      <td>0.0895</td>\n",
       "      <td>0.0395</td>\n",
       "      <td>0.055</td>\n",
       "      <td>7</td>\n",
       "    </tr>\n",
       "  </tbody>\n",
       "</table>\n",
       "</div>"
      ],
      "text/plain": [
       "  Sex  Length  Diameter  Height  Whole_weight  Shucked_weight  Viscera_weight  \\\n",
       "0   M   0.455     0.365   0.095        0.5140          0.2245          0.1010   \n",
       "1   M   0.350     0.265   0.090        0.2255          0.0995          0.0485   \n",
       "2   F   0.530     0.420   0.135        0.6770          0.2565          0.1415   \n",
       "3   M   0.440     0.365   0.125        0.5160          0.2155          0.1140   \n",
       "4   I   0.330     0.255   0.080        0.2050          0.0895          0.0395   \n",
       "\n",
       "   Shell_weight  Rings  \n",
       "0         0.150     15  \n",
       "1         0.070      7  \n",
       "2         0.210      9  \n",
       "3         0.155     10  \n",
       "4         0.055      7  "
      ]
     },
     "execution_count": 2,
     "metadata": {},
     "output_type": "execute_result"
    }
   ],
   "source": [
    "abalones = fetch_ucirepo(id=1)\n",
    "\n",
    "abalones_df = abalones.data.original\n",
    "\n",
    "abalones_df.head(5)"
   ]
  },
  {
   "cell_type": "markdown",
   "metadata": {},
   "source": [
    "Using the UCI ML repo package, the dataset comes with the variables already split into features and labels:"
   ]
  },
  {
   "cell_type": "code",
   "execution_count": 3,
   "metadata": {},
   "outputs": [
    {
     "name": "stdout",
     "output_type": "stream",
     "text": [
      "The features of this dataset are:\n",
      "\n",
      "Sex\n",
      "Length\n",
      "Diameter\n",
      "Height\n",
      "Whole_weight\n",
      "Shucked_weight\n",
      "Viscera_weight\n",
      "Shell_weight\n",
      "\n",
      "The labels of this dataset are:\n",
      "\n",
      "Rings\n"
     ]
    }
   ],
   "source": [
    "# Features:\n",
    "abalones_x = abalones.data.features\n",
    "\n",
    "# Labels:\n",
    "abalones_y = abalones.data.targets\n",
    "\n",
    "print(\"The features of this dataset are:\\n\")\n",
    "for col in abalones_x.columns: print(col)\n",
    "\n",
    "print(\"\\nThe labels of this dataset are:\\n\")\n",
    "for col in abalones_y.columns: print(col)"
   ]
  },
  {
   "cell_type": "markdown",
   "metadata": {},
   "source": [
    "So the machine learning task is to use some combination of the sex, length, diameter, height and weights of the abalone molluscs to predict the number of shell rings."
   ]
  },
  {
   "cell_type": "markdown",
   "metadata": {},
   "source": [
    "We can see our feature set includes the variable `Sex`, which is a categorical variable. We will recode this into dummy variables:"
   ]
  },
  {
   "cell_type": "code",
   "execution_count": 4,
   "metadata": {},
   "outputs": [
    {
     "data": {
      "text/html": [
       "<div>\n",
       "<style scoped>\n",
       "    .dataframe tbody tr th:only-of-type {\n",
       "        vertical-align: middle;\n",
       "    }\n",
       "\n",
       "    .dataframe tbody tr th {\n",
       "        vertical-align: top;\n",
       "    }\n",
       "\n",
       "    .dataframe thead th {\n",
       "        text-align: right;\n",
       "    }\n",
       "</style>\n",
       "<table border=\"1\" class=\"dataframe\">\n",
       "  <thead>\n",
       "    <tr style=\"text-align: right;\">\n",
       "      <th></th>\n",
       "      <th>Sex</th>\n",
       "      <th>Length</th>\n",
       "      <th>Diameter</th>\n",
       "      <th>Height</th>\n",
       "      <th>Whole_weight</th>\n",
       "      <th>Shucked_weight</th>\n",
       "      <th>Viscera_weight</th>\n",
       "      <th>Shell_weight</th>\n",
       "      <th>Rings</th>\n",
       "      <th>Sex_F</th>\n",
       "      <th>Sex_I</th>\n",
       "      <th>Sex_M</th>\n",
       "    </tr>\n",
       "  </thead>\n",
       "  <tbody>\n",
       "    <tr>\n",
       "      <th>0</th>\n",
       "      <td>M</td>\n",
       "      <td>0.455</td>\n",
       "      <td>0.365</td>\n",
       "      <td>0.095</td>\n",
       "      <td>0.5140</td>\n",
       "      <td>0.2245</td>\n",
       "      <td>0.1010</td>\n",
       "      <td>0.150</td>\n",
       "      <td>15</td>\n",
       "      <td>0</td>\n",
       "      <td>0</td>\n",
       "      <td>1</td>\n",
       "    </tr>\n",
       "    <tr>\n",
       "      <th>1</th>\n",
       "      <td>M</td>\n",
       "      <td>0.350</td>\n",
       "      <td>0.265</td>\n",
       "      <td>0.090</td>\n",
       "      <td>0.2255</td>\n",
       "      <td>0.0995</td>\n",
       "      <td>0.0485</td>\n",
       "      <td>0.070</td>\n",
       "      <td>7</td>\n",
       "      <td>0</td>\n",
       "      <td>0</td>\n",
       "      <td>1</td>\n",
       "    </tr>\n",
       "    <tr>\n",
       "      <th>2</th>\n",
       "      <td>F</td>\n",
       "      <td>0.530</td>\n",
       "      <td>0.420</td>\n",
       "      <td>0.135</td>\n",
       "      <td>0.6770</td>\n",
       "      <td>0.2565</td>\n",
       "      <td>0.1415</td>\n",
       "      <td>0.210</td>\n",
       "      <td>9</td>\n",
       "      <td>1</td>\n",
       "      <td>0</td>\n",
       "      <td>0</td>\n",
       "    </tr>\n",
       "    <tr>\n",
       "      <th>3</th>\n",
       "      <td>M</td>\n",
       "      <td>0.440</td>\n",
       "      <td>0.365</td>\n",
       "      <td>0.125</td>\n",
       "      <td>0.5160</td>\n",
       "      <td>0.2155</td>\n",
       "      <td>0.1140</td>\n",
       "      <td>0.155</td>\n",
       "      <td>10</td>\n",
       "      <td>0</td>\n",
       "      <td>0</td>\n",
       "      <td>1</td>\n",
       "    </tr>\n",
       "    <tr>\n",
       "      <th>4</th>\n",
       "      <td>I</td>\n",
       "      <td>0.330</td>\n",
       "      <td>0.255</td>\n",
       "      <td>0.080</td>\n",
       "      <td>0.2050</td>\n",
       "      <td>0.0895</td>\n",
       "      <td>0.0395</td>\n",
       "      <td>0.055</td>\n",
       "      <td>7</td>\n",
       "      <td>0</td>\n",
       "      <td>1</td>\n",
       "      <td>0</td>\n",
       "    </tr>\n",
       "  </tbody>\n",
       "</table>\n",
       "</div>"
      ],
      "text/plain": [
       "  Sex  Length  Diameter  Height  Whole_weight  Shucked_weight  Viscera_weight  \\\n",
       "0   M   0.455     0.365   0.095        0.5140          0.2245          0.1010   \n",
       "1   M   0.350     0.265   0.090        0.2255          0.0995          0.0485   \n",
       "2   F   0.530     0.420   0.135        0.6770          0.2565          0.1415   \n",
       "3   M   0.440     0.365   0.125        0.5160          0.2155          0.1140   \n",
       "4   I   0.330     0.255   0.080        0.2050          0.0895          0.0395   \n",
       "\n",
       "   Shell_weight  Rings  Sex_F  Sex_I  Sex_M  \n",
       "0         0.150     15      0      0      1  \n",
       "1         0.070      7      0      0      1  \n",
       "2         0.210      9      1      0      0  \n",
       "3         0.155     10      0      0      1  \n",
       "4         0.055      7      0      1      0  "
      ]
     },
     "execution_count": 4,
     "metadata": {},
     "output_type": "execute_result"
    }
   ],
   "source": [
    "encoded_sex = pd.get_dummies(abalones_df[\"Sex\"], prefix = \"Sex\", dtype = int)\n",
    "\n",
    "abalones_df = pd.concat([abalones_df, encoded_sex], axis = 1)\n",
    "\n",
    "abalones_df.head(5)"
   ]
  },
  {
   "cell_type": "markdown",
   "metadata": {},
   "source": [
    "We can drop the original `Sex` variable from the feature set now that we have replaced it with numeric dummy variables:"
   ]
  },
  {
   "cell_type": "code",
   "execution_count": 5,
   "metadata": {},
   "outputs": [],
   "source": [
    "abalones_df = abalones_df.drop(\"Sex\", axis = 1)"
   ]
  },
  {
   "cell_type": "markdown",
   "metadata": {},
   "source": [
    "We will use functions defined in [tensorflow_functions.py](modules/tensorflow_functions.py) to build and train a linear regression model on the abalone DataFrame.\n",
    "\n",
    "The machine learning model will depend on three hyperparameters:\n",
    "\n",
    "- [Learning rate](https://developers.google.com/machine-learning/glossary/#learning-rate)\n",
    "- [Epochs](https://developers.google.com/machine-learning/glossary/#epoch)\n",
    "- [Batch size](https://developers.google.com/machine-learning/glossary/#batch_size)\n",
    "\n",
    "It will also depend on the features we select to predict the label, `Rings`."
   ]
  },
  {
   "cell_type": "code",
   "execution_count": 6,
   "metadata": {},
   "outputs": [
    {
     "name": "stdout",
     "output_type": "stream",
     "text": [
      "WARNING:tensorflow:From C:\\Users\\soderc\\Anaconda3\\envs\\ml-practice-env\\Lib\\site-packages\\keras\\src\\backend.py:873: The name tf.get_default_graph is deprecated. Please use tf.compat.v1.get_default_graph instead.\n",
      "\n",
      "Epoch 1/20\n",
      "WARNING:tensorflow:From C:\\Users\\soderc\\Anaconda3\\envs\\ml-practice-env\\Lib\\site-packages\\keras\\src\\utils\\tf_utils.py:492: The name tf.ragged.RaggedTensorValue is deprecated. Please use tf.compat.v1.ragged.RaggedTensorValue instead.\n",
      "\n",
      "42/42 [==============================] - 0s 1ms/step - loss: 94.9777 - root_mean_squared_error: 9.7457\n",
      "Epoch 2/20\n",
      "42/42 [==============================] - 0s 1ms/step - loss: 84.0782 - root_mean_squared_error: 9.1694\n",
      "Epoch 3/20\n",
      "42/42 [==============================] - 0s 1ms/step - loss: 74.2301 - root_mean_squared_error: 8.6157\n",
      "Epoch 4/20\n",
      "42/42 [==============================] - 0s 1ms/step - loss: 65.1137 - root_mean_squared_error: 8.0693\n",
      "Epoch 5/20\n",
      "42/42 [==============================] - 0s 1ms/step - loss: 56.6572 - root_mean_squared_error: 7.5271\n",
      "Epoch 6/20\n",
      "42/42 [==============================] - 0s 1ms/step - loss: 48.9125 - root_mean_squared_error: 6.9937\n",
      "Epoch 7/20\n",
      "42/42 [==============================] - 0s 1ms/step - loss: 41.8242 - root_mean_squared_error: 6.4672\n",
      "Epoch 8/20\n",
      "42/42 [==============================] - 0s 1ms/step - loss: 35.4381 - root_mean_squared_error: 5.9530\n",
      "Epoch 9/20\n",
      "42/42 [==============================] - 0s 1ms/step - loss: 29.7694 - root_mean_squared_error: 5.4561\n",
      "Epoch 10/20\n",
      "42/42 [==============================] - 0s 1ms/step - loss: 24.7773 - root_mean_squared_error: 4.9777\n",
      "Epoch 11/20\n",
      "42/42 [==============================] - 0s 1ms/step - loss: 20.4407 - root_mean_squared_error: 4.5211\n",
      "Epoch 12/20\n",
      "42/42 [==============================] - 0s 1ms/step - loss: 16.7775 - root_mean_squared_error: 4.0960\n",
      "Epoch 13/20\n",
      "42/42 [==============================] - 0s 1ms/step - loss: 13.7999 - root_mean_squared_error: 3.7148\n",
      "Epoch 14/20\n",
      "42/42 [==============================] - 0s 1ms/step - loss: 11.4619 - root_mean_squared_error: 3.3855\n",
      "Epoch 15/20\n",
      "42/42 [==============================] - 0s 1ms/step - loss: 9.8091 - root_mean_squared_error: 3.1319\n",
      "Epoch 16/20\n",
      "42/42 [==============================] - 0s 1ms/step - loss: 8.7649 - root_mean_squared_error: 2.9606\n",
      "Epoch 17/20\n",
      "42/42 [==============================] - 0s 1ms/step - loss: 8.2572 - root_mean_squared_error: 2.8735\n",
      "Epoch 18/20\n",
      "42/42 [==============================] - 0s 1ms/step - loss: 8.1334 - root_mean_squared_error: 2.8519\n",
      "Epoch 19/20\n",
      "42/42 [==============================] - 0s 1ms/step - loss: 8.0851 - root_mean_squared_error: 2.8434\n",
      "Epoch 20/20\n",
      "42/42 [==============================] - 0s 1ms/step - loss: 8.0399 - root_mean_squared_error: 2.8355\n"
     ]
    },
    {
     "data": {
      "image/png": "[encoded data removed]",
      "text/plain": [
       "<Figure size 640x480 with 1 Axes>"
      ]
     },
     "metadata": {},
     "output_type": "display_data"
    },
    {
     "data": {
      "image/png": "[encoded data removed]",
      "text/plain": [
       "<Figure size 640x480 with 1 Axes>"
      ]
     },
     "metadata": {},
     "output_type": "display_data"
    }
   ],
   "source": [
    "# Define hyperparameters\n",
    "model_learning_rate = 0.01\n",
    "model_epochs = 20\n",
    "model_batch_size = 100\n",
    "\n",
    "# Set label and features\n",
    "model_label = \"Rings\"\n",
    "model_feature = \"Diameter\"\n",
    "\n",
    "# Build model\n",
    "base_model = build_lr_model(learning_rate = model_learning_rate)\n",
    "\n",
    "# Train model\n",
    "weight, bias, epochs, rmse = train_model(\n",
    "    model =  base_model,\n",
    "    df = abalones_df,\n",
    "    feature = model_feature,\n",
    "    label = model_label,\n",
    "    epochs = model_epochs,\n",
    "    batch_size = model_batch_size\n",
    ")\n",
    "\n",
    "# Plot the model\n",
    "plot_the_model(\n",
    "    df = abalones_df,\n",
    "    trained_weight = weight,\n",
    "    trained_bias = bias,\n",
    "    feature = model_feature,\n",
    "    label = model_label\n",
    ")\n",
    "plot_the_loss_curve(epochs, rmse)"
   ]
  }
 ],
 "metadata": {
  "kernelspec": {
   "display_name": "ml-practice-env",
   "language": "python",
   "name": "ml-practice-env"
  },
  "language_info": {
   "codemirror_mode": {
    "name": "ipython",
    "version": 3
   },
   "file_extension": ".py",
   "mimetype": "text/x-python",
   "name": "python",
   "nbconvert_exporter": "python",
   "pygments_lexer": "ipython3",
   "version": "3.11.7"
  }
 },
 "nbformat": 4,
 "nbformat_minor": 4
}
