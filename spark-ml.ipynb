{
 "cells": [
  {
   "cell_type": "markdown",
   "metadata": {},
   "source": [
    "### Introduction to Machine Learning with Spark\n",
    "\n",
    "This notebook is intended to be run in a Cloudera Data Science Workbench session"
   ]
  },
  {
   "cell_type": "markdown",
   "metadata": {},
   "source": [
    "Package imports:"
   ]
  },
  {
   "cell_type": "code",
   "execution_count": 1,
   "metadata": {},
   "outputs": [],
   "source": [
    "import findspark\n",
    "findspark.init()\n",
    "\n",
    "from pyspark.sql import SparkSession\n",
    "import pyspark.sql.functions as F\n",
    "import pyspark.ml as ml\n",
    "import pandas as pd\n",
    "import os, IPython"
   ]
  },
  {
   "cell_type": "markdown",
   "metadata": {},
   "source": [
    "Spark UI link:"
   ]
  },
  {
   "cell_type": "code",
   "execution_count": 2,
   "metadata": {
    "scrolled": true
   },
   "outputs": [
    {
     "data": {
      "text/html": [
       "<a href=http://https://spark-r7w38q3xqn9vy1s5.cdswmn-d01-01.ons.statistics.gov.uk>Spark UI</a>"
      ],
      "text/plain": [
       "<IPython.core.display.HTML object>"
      ]
     },
     "execution_count": 2,
     "metadata": {},
     "output_type": "execute_result"
    }
   ],
   "source": [
    "sparkui_url = \"https://spark-%s.%s\" % (os.environ[\"CDSW_ENGINE_ID\"], os.environ[\"CDSW_DOMAIN\"])\n",
    "IPython.display.HTML(\"<a href=http://%s>Spark UI</a>\" % sparkui_url)"
   ]
  },
  {
   "cell_type": "markdown",
   "metadata": {},
   "source": [
    "Create Spark session:"
   ]
  },
  {
   "cell_type": "code",
   "execution_count": 3,
   "metadata": {},
   "outputs": [],
   "source": [
    "spark = (\n",
    "    SparkSession.builder.master(\"local[2]\")\n",
    "    .appName(\"spark-ml\")\n",
    "    .getOrCreate()\n",
    ")"
   ]
  },
  {
   "cell_type": "markdown",
   "metadata": {},
   "source": [
    "Read in and preview example data:"
   ]
  },
  {
   "cell_type": "code",
   "execution_count": 4,
   "metadata": {},
   "outputs": [
    {
     "data": {
      "text/html": [
       "<div>\n",
       "<style>\n",
       "    .dataframe thead tr:only-child th {\n",
       "        text-align: right;\n",
       "    }\n",
       "\n",
       "    .dataframe thead th {\n",
       "        text-align: left;\n",
       "    }\n",
       "\n",
       "    .dataframe tbody tr th {\n",
       "        vertical-align: top;\n",
       "    }\n",
       "</style>\n",
       "<table border=\"1\" class=\"dataframe\">\n",
       "  <thead>\n",
       "    <tr style=\"text-align: right;\">\n",
       "      <th></th>\n",
       "      <th>IncidentNumber</th>\n",
       "      <th>DateTimeOfCall</th>\n",
       "      <th>CalYear</th>\n",
       "      <th>FinYear</th>\n",
       "      <th>TypeOfIncident</th>\n",
       "      <th>PumpCount</th>\n",
       "      <th>PumpHoursTotal</th>\n",
       "      <th>HourlyCost</th>\n",
       "      <th>TotalCost</th>\n",
       "      <th>FinalDescription</th>\n",
       "      <th>...</th>\n",
       "      <th>WardCode</th>\n",
       "      <th>Ward</th>\n",
       "      <th>BoroughCode</th>\n",
       "      <th>Borough</th>\n",
       "      <th>StnGroundName</th>\n",
       "      <th>PostcodeDistrict</th>\n",
       "      <th>Easting_m</th>\n",
       "      <th>Northing_m</th>\n",
       "      <th>Easting_rounded</th>\n",
       "      <th>Northing_rounded</th>\n",
       "    </tr>\n",
       "  </thead>\n",
       "  <tbody>\n",
       "    <tr>\n",
       "      <th>0</th>\n",
       "      <td>139091</td>\n",
       "      <td>01/01/2009 03:01</td>\n",
       "      <td>2009</td>\n",
       "      <td>2008/09</td>\n",
       "      <td>Special Service</td>\n",
       "      <td>1.0</td>\n",
       "      <td>2.0</td>\n",
       "      <td>255</td>\n",
       "      <td>510.0</td>\n",
       "      <td>DOG WITH JAW TRAPPED IN MAGAZINE RACK,B15</td>\n",
       "      <td>...</td>\n",
       "      <td>E05011467</td>\n",
       "      <td>Crystal Palace &amp; Upper Norwood</td>\n",
       "      <td>E09000008</td>\n",
       "      <td>Croydon</td>\n",
       "      <td>Norbury</td>\n",
       "      <td>SE19</td>\n",
       "      <td>NaN</td>\n",
       "      <td>NaN</td>\n",
       "      <td>532350</td>\n",
       "      <td>170050</td>\n",
       "    </tr>\n",
       "    <tr>\n",
       "      <th>1</th>\n",
       "      <td>275091</td>\n",
       "      <td>01/01/2009 08:51</td>\n",
       "      <td>2009</td>\n",
       "      <td>2008/09</td>\n",
       "      <td>Special Service</td>\n",
       "      <td>1.0</td>\n",
       "      <td>1.0</td>\n",
       "      <td>255</td>\n",
       "      <td>255.0</td>\n",
       "      <td>ASSIST RSPCA WITH FOX TRAPPED,B15</td>\n",
       "      <td>...</td>\n",
       "      <td>E05000169</td>\n",
       "      <td>Woodside</td>\n",
       "      <td>E09000008</td>\n",
       "      <td>Croydon</td>\n",
       "      <td>Woodside</td>\n",
       "      <td>SE25</td>\n",
       "      <td>534785.0</td>\n",
       "      <td>167546.0</td>\n",
       "      <td>534750</td>\n",
       "      <td>167550</td>\n",
       "    </tr>\n",
       "    <tr>\n",
       "      <th>2</th>\n",
       "      <td>2075091</td>\n",
       "      <td>04/01/2009 10:07</td>\n",
       "      <td>2009</td>\n",
       "      <td>2008/09</td>\n",
       "      <td>Special Service</td>\n",
       "      <td>1.0</td>\n",
       "      <td>1.0</td>\n",
       "      <td>255</td>\n",
       "      <td>255.0</td>\n",
       "      <td>DOG CAUGHT IN DRAIN,B15</td>\n",
       "      <td>...</td>\n",
       "      <td>E05000558</td>\n",
       "      <td>Carshalton Central</td>\n",
       "      <td>E09000029</td>\n",
       "      <td>Sutton</td>\n",
       "      <td>Wallington</td>\n",
       "      <td>SM5</td>\n",
       "      <td>528041.0</td>\n",
       "      <td>164923.0</td>\n",
       "      <td>528050</td>\n",
       "      <td>164950</td>\n",
       "    </tr>\n",
       "    <tr>\n",
       "      <th>3</th>\n",
       "      <td>2872091</td>\n",
       "      <td>05/01/2009 12:27</td>\n",
       "      <td>2009</td>\n",
       "      <td>2008/09</td>\n",
       "      <td>Special Service</td>\n",
       "      <td>1.0</td>\n",
       "      <td>1.0</td>\n",
       "      <td>255</td>\n",
       "      <td>255.0</td>\n",
       "      <td>HORSE TRAPPED IN LAKE,J17</td>\n",
       "      <td>...</td>\n",
       "      <td>E05000330</td>\n",
       "      <td>Harefield</td>\n",
       "      <td>E09000017</td>\n",
       "      <td>Hillingdon</td>\n",
       "      <td>Ruislip</td>\n",
       "      <td>UB9</td>\n",
       "      <td>504689.0</td>\n",
       "      <td>190685.0</td>\n",
       "      <td>504650</td>\n",
       "      <td>190650</td>\n",
       "    </tr>\n",
       "    <tr>\n",
       "      <th>4</th>\n",
       "      <td>3553091</td>\n",
       "      <td>06/01/2009 15:23</td>\n",
       "      <td>2009</td>\n",
       "      <td>2008/09</td>\n",
       "      <td>Special Service</td>\n",
       "      <td>1.0</td>\n",
       "      <td>1.0</td>\n",
       "      <td>255</td>\n",
       "      <td>255.0</td>\n",
       "      <td>RABBIT TRAPPED UNDER SOFA,B15</td>\n",
       "      <td>...</td>\n",
       "      <td>E05000310</td>\n",
       "      <td>Gooshays</td>\n",
       "      <td>E09000016</td>\n",
       "      <td>Havering</td>\n",
       "      <td>Harold Hill</td>\n",
       "      <td>RM3</td>\n",
       "      <td>NaN</td>\n",
       "      <td>NaN</td>\n",
       "      <td>554650</td>\n",
       "      <td>192350</td>\n",
       "    </tr>\n",
       "  </tbody>\n",
       "</table>\n",
       "<p>5 rows × 26 columns</p>\n",
       "</div>"
      ],
      "text/plain": [
       "  IncidentNumber    DateTimeOfCall  CalYear  FinYear   TypeOfIncident  \\\n",
       "0         139091  01/01/2009 03:01     2009  2008/09  Special Service   \n",
       "1         275091  01/01/2009 08:51     2009  2008/09  Special Service   \n",
       "2        2075091  04/01/2009 10:07     2009  2008/09  Special Service   \n",
       "3        2872091  05/01/2009 12:27     2009  2008/09  Special Service   \n",
       "4        3553091  06/01/2009 15:23     2009  2008/09  Special Service   \n",
       "\n",
       "   PumpCount  PumpHoursTotal  HourlyCost  TotalCost  \\\n",
       "0        1.0             2.0         255      510.0   \n",
       "1        1.0             1.0         255      255.0   \n",
       "2        1.0             1.0         255      255.0   \n",
       "3        1.0             1.0         255      255.0   \n",
       "4        1.0             1.0         255      255.0   \n",
       "\n",
       "                            FinalDescription       ...          WardCode  \\\n",
       "0  DOG WITH JAW TRAPPED IN MAGAZINE RACK,B15       ...         E05011467   \n",
       "1          ASSIST RSPCA WITH FOX TRAPPED,B15       ...         E05000169   \n",
       "2                    DOG CAUGHT IN DRAIN,B15       ...         E05000558   \n",
       "3                  HORSE TRAPPED IN LAKE,J17       ...         E05000330   \n",
       "4              RABBIT TRAPPED UNDER SOFA,B15       ...         E05000310   \n",
       "\n",
       "                             Ward BoroughCode     Borough StnGroundName  \\\n",
       "0  Crystal Palace & Upper Norwood   E09000008     Croydon       Norbury   \n",
       "1                        Woodside   E09000008     Croydon      Woodside   \n",
       "2              Carshalton Central   E09000029      Sutton    Wallington   \n",
       "3                       Harefield   E09000017  Hillingdon       Ruislip   \n",
       "4                        Gooshays   E09000016    Havering   Harold Hill   \n",
       "\n",
       "  PostcodeDistrict Easting_m Northing_m Easting_rounded Northing_rounded  \n",
       "0             SE19       NaN        NaN          532350           170050  \n",
       "1             SE25  534785.0   167546.0          534750           167550  \n",
       "2              SM5  528041.0   164923.0          528050           164950  \n",
       "3              UB9  504689.0   190685.0          504650           190650  \n",
       "4              RM3       NaN        NaN          554650           192350  \n",
       "\n",
       "[5 rows x 26 columns]"
      ]
     },
     "execution_count": 4,
     "metadata": {},
     "output_type": "execute_result"
    }
   ],
   "source": [
    "spark.sparkContext.setJobDescription(\"Read in data\")\n",
    "\n",
    "rescue_df = (\n",
    "    spark.read.csv(\"/training/animal_rescue.csv\",\n",
    "                 header = True, inferSchema = True)\n",
    "    .withColumnRenamed(\"AnimalGroupParent\", \"AnimalGroup\")\n",
    "    .withColumnRenamed(\"IncidentNotionalCost(£)\", \"TotalCost\")\n",
    "    .withColumnRenamed(\"HourlyNotionalCost(£)\", \"HourlyCost\")\n",
    "    .withColumnRenamed(\"OriginofCall\", \"OriginOfCall\")\n",
    ")\n",
    "\n",
    "spark.sparkContext.setJobDescription(\"Preview data\")\n",
    "\n",
    "rescue_df.limit(5).toPandas()"
   ]
  },
  {
   "cell_type": "markdown",
   "metadata": {},
   "source": [
    "End Spark session:"
   ]
  },
  {
   "cell_type": "code",
   "execution_count": 6,
   "metadata": {},
   "outputs": [],
   "source": [
    "spark.stop()"
   ]
  }
 ],
 "metadata": {
  "kernelspec": {
   "display_name": "Python 3",
   "language": "python",
   "name": "python3"
  },
  "language_info": {
   "codemirror_mode": {
    "name": "ipython",
    "version": 3
   },
   "file_extension": ".py",
   "mimetype": "text/x-python",
   "name": "python",
   "nbconvert_exporter": "python",
   "pygments_lexer": "ipython3",
   "version": "3.6.8"
  }
 },
 "nbformat": 4,
 "nbformat_minor": 2
}
